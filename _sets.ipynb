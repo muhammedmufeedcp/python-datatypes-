{
  "nbformat": 4,
  "nbformat_minor": 0,
  "metadata": {
    "colab": {
      "provenance": [],
      "toc_visible": true
    },
    "kernelspec": {
      "name": "python3",
      "display_name": "Python 3"
    },
    "language_info": {
      "name": "python"
    }
  },
  "cells": [
    {
      "cell_type": "code",
      "execution_count": null,
      "metadata": {
        "colab": {
          "base_uri": "https://localhost:8080/"
        },
        "id": "ZB3JTw3H7xnv",
        "outputId": "670d80ea-93da-4fef-c788-940bb9e39c0d"
      },
      "outputs": [
        {
          "output_type": "stream",
          "name": "stdout",
          "text": [
            "<class 'set'>\n",
            "{1, 2, 3, 4, 5}\n"
          ]
        }
      ],
      "source": [
        "x={1,2,3,4,5}\n",
        "print(type(x))"
      ]
    },
    {
      "cell_type": "code",
      "source": [
        "y={1,2,3,4,5,5}  #duplicate not allowed\n",
        "print(y)"
      ],
      "metadata": {
        "colab": {
          "base_uri": "https://localhost:8080/"
        },
        "id": "edTM8poE92pN",
        "outputId": "8d6b6021-93dd-4581-8e52-dc040a87d02d"
      },
      "execution_count": null,
      "outputs": [
        {
          "output_type": "stream",
          "name": "stdout",
          "text": [
            "{1, 2, 3, 4, 5}\n"
          ]
        }
      ]
    },
    {
      "cell_type": "code",
      "source": [
        "x={1,2,3,4,5,True}  #set are provaide same value for 1 and True\n",
        "print(x)"
      ],
      "metadata": {
        "colab": {
          "base_uri": "https://localhost:8080/"
        },
        "id": "tSPjPBrI_aE1",
        "outputId": "d114c14a-7322-4f1c-97f5-ae3c6bf0bc3b"
      },
      "execution_count": null,
      "outputs": [
        {
          "output_type": "stream",
          "name": "stdout",
          "text": [
            "{1, 2, 3, 4, 5}\n"
          ]
        }
      ]
    },
    {
      "cell_type": "code",
      "source": [
        "x={0,False,1,2,3,4,5}  #set are provaide same value for 0 and False\n",
        "print(x)"
      ],
      "metadata": {
        "colab": {
          "base_uri": "https://localhost:8080/"
        },
        "id": "ajpH52Nx_vrj",
        "outputId": "c29dfead-a89a-4814-cb6c-0d5ccac21da3"
      },
      "execution_count": null,
      "outputs": [
        {
          "output_type": "stream",
          "name": "stdout",
          "text": [
            "{0, 1, 2, 3, 4, 5}\n"
          ]
        }
      ]
    },
    {
      "cell_type": "markdown",
      "source": [
        "#set constructor"
      ],
      "metadata": {
        "id": "uUeMNojU34b7"
      }
    },
    {
      "cell_type": "code",
      "source": [
        "x=[False,2,5,2,3,4]\n",
        "print(set(x))"
      ],
      "metadata": {
        "colab": {
          "base_uri": "https://localhost:8080/"
        },
        "id": "5JLDej5eANls",
        "outputId": "ad92e285-d831-4cf8-d771-e19fdac7379a"
      },
      "execution_count": null,
      "outputs": [
        {
          "output_type": "stream",
          "name": "stdout",
          "text": [
            "{False, 2, 3, 4, 5}\n"
          ]
        }
      ]
    },
    {
      "cell_type": "code",
      "source": [
        "y=(123,456)\n",
        "print(set(y))"
      ],
      "metadata": {
        "colab": {
          "base_uri": "https://localhost:8080/"
        },
        "id": "bcFkCaPyAv30",
        "outputId": "2d37ef76-1cfc-4162-f6bf-d998c6926a1b"
      },
      "execution_count": null,
      "outputs": [
        {
          "output_type": "stream",
          "name": "stdout",
          "text": [
            "{456, 123}\n"
          ]
        }
      ]
    },
    {
      "cell_type": "code",
      "source": [
        "y=[\"123\",\"234\"]\n",
        "print(set(y))"
      ],
      "metadata": {
        "colab": {
          "base_uri": "https://localhost:8080/"
        },
        "id": "M0IBIlpnCYMV",
        "outputId": "ba783cd5-3a49-42b0-e79e-2a8c7431e4e4"
      },
      "execution_count": null,
      "outputs": [
        {
          "output_type": "stream",
          "name": "stdout",
          "text": [
            "{'234', '123'}\n"
          ]
        }
      ]
    },
    {
      "cell_type": "code",
      "source": [
        "y=(\"hello\",\"world\")\n",
        "print(set(y))"
      ],
      "metadata": {
        "colab": {
          "base_uri": "https://localhost:8080/"
        },
        "id": "UIcKMKVoBNvM",
        "outputId": "b7c31b66-d81a-4b7f-bcb9-60335953e0d9"
      },
      "execution_count": null,
      "outputs": [
        {
          "output_type": "stream",
          "name": "stdout",
          "text": [
            "{'world', 'hello'}\n"
          ]
        }
      ]
    },
    {
      "cell_type": "markdown",
      "source": [
        "#itrate with forloop"
      ],
      "metadata": {
        "id": "HE9u5u2f31cD"
      }
    },
    {
      "cell_type": "code",
      "source": [
        "z={1, 2, 3, 4, 5}\n",
        "for i in z:\n",
        "  print(i)"
      ],
      "metadata": {
        "colab": {
          "base_uri": "https://localhost:8080/"
        },
        "id": "udQhceG8Dzyd",
        "outputId": "570d414b-a0ea-481e-fc84-09408c270fc1"
      },
      "execution_count": null,
      "outputs": [
        {
          "output_type": "stream",
          "name": "stdout",
          "text": [
            "1\n",
            "2\n",
            "3\n",
            "4\n",
            "5\n"
          ]
        }
      ]
    },
    {
      "cell_type": "markdown",
      "source": [
        "#add values"
      ],
      "metadata": {
        "id": "c5PxAs263sTL"
      }
    },
    {
      "cell_type": "code",
      "source": [
        "y={1, 2, 3,4}\n",
        "y.add(False)\n",
        "print(y)"
      ],
      "metadata": {
        "colab": {
          "base_uri": "https://localhost:8080/"
        },
        "id": "Fub3gYVVFs1c",
        "outputId": "641fef25-981a-4632-cc0e-7cefb5a5f536"
      },
      "execution_count": null,
      "outputs": [
        {
          "output_type": "stream",
          "name": "stdout",
          "text": [
            "{False, 1, 2, 3, 4}\n"
          ]
        }
      ]
    },
    {
      "cell_type": "code",
      "source": [
        "z={1, 2, 3, 4, 5}\n",
        "z.add(\"baby\")\n",
        "print(z)"
      ],
      "metadata": {
        "colab": {
          "base_uri": "https://localhost:8080/"
        },
        "id": "2yUqQQOsGwsV",
        "outputId": "88650dc0-b82d-4b18-8e9a-38516e80ed6b"
      },
      "execution_count": null,
      "outputs": [
        {
          "output_type": "stream",
          "name": "stdout",
          "text": [
            "{1, 2, 3, 4, 5, 'baby'}\n"
          ]
        }
      ]
    },
    {
      "cell_type": "markdown",
      "source": [
        "##add many values"
      ],
      "metadata": {
        "id": "wgERF4La3ih6"
      }
    },
    {
      "cell_type": "code",
      "source": [
        "i={1, 2, 3, 4, 5}\n",
        "i.update([8,9,0])\n",
        "print(i)"
      ],
      "metadata": {
        "colab": {
          "base_uri": "https://localhost:8080/"
        },
        "id": "x9BDjx76IVoc",
        "outputId": "c0a9e319-fa67-427f-b5af-55bbd6da4038"
      },
      "execution_count": null,
      "outputs": [
        {
          "output_type": "stream",
          "name": "stdout",
          "text": [
            "{0, 1, 2, 3, 4, 5, 8, 9}\n"
          ]
        }
      ]
    },
    {
      "cell_type": "code",
      "source": [
        "i={1, 2, 3, 4, 5}\n",
        "i.update(\"hi\",\"hello\",\"baby\")\n",
        "print(i)"
      ],
      "metadata": {
        "colab": {
          "base_uri": "https://localhost:8080/"
        },
        "id": "K_xCENx2JPrN",
        "outputId": "8c8d8093-24f3-48c1-e374-21e86471f865"
      },
      "execution_count": null,
      "outputs": [
        {
          "output_type": "stream",
          "name": "stdout",
          "text": [
            "{1, 2, 3, 4, 5, 'b', 'i', 'y', 'o', 'a', 'h', 'l', 'e'}\n"
          ]
        }
      ]
    },
    {
      "cell_type": "code",
      "source": [
        "i={1, 2, 3, 4, 5}\n",
        "i.update({7,8,9})\n",
        "print(i)"
      ],
      "metadata": {
        "colab": {
          "base_uri": "https://localhost:8080/"
        },
        "id": "iZhodihpLIEu",
        "outputId": "bbe66e68-dead-48fe-8a4a-d7fc8dd955f6"
      },
      "execution_count": null,
      "outputs": [
        {
          "output_type": "stream",
          "name": "stdout",
          "text": [
            "{1, 2, 3, 4, 5, 7, 8, 9}\n"
          ]
        }
      ]
    },
    {
      "cell_type": "markdown",
      "source": [
        "#remove set items"
      ],
      "metadata": {
        "id": "OF2Zqiop3CRD"
      }
    },
    {
      "cell_type": "code",
      "source": [
        "i={1, 2, 3, 4, 5}  #remove set items\n",
        "i.remove(3)\n",
        "print(i)"
      ],
      "metadata": {
        "colab": {
          "base_uri": "https://localhost:8080/"
        },
        "id": "TJJ4u8wsKaVl",
        "outputId": "f2193da4-06d3-4a98-f600-f39ee2946c2e"
      },
      "execution_count": null,
      "outputs": [
        {
          "output_type": "stream",
          "name": "stdout",
          "text": [
            "{1, 2, 4, 5}\n"
          ]
        }
      ]
    },
    {
      "cell_type": "code",
      "source": [
        "i={1, 2, 3, 4, 5,\"hello\"}\n",
        "i.remove(\"hello\")\n",
        "print(i)"
      ],
      "metadata": {
        "colab": {
          "base_uri": "https://localhost:8080/"
        },
        "id": "_LyHuQubKvmU",
        "outputId": "0b440d88-9549-4295-d20e-3a6ad948918e"
      },
      "execution_count": null,
      "outputs": [
        {
          "output_type": "stream",
          "name": "stdout",
          "text": [
            "{1, 2, 3, 4, 5}\n"
          ]
        }
      ]
    },
    {
      "cell_type": "markdown",
      "source": [
        "##remove not raising error"
      ],
      "metadata": {
        "id": "Ws3shdLF3Vaj"
      }
    },
    {
      "cell_type": "code",
      "source": [
        "i={1, 2, 3, 4, 5}\n",
        "i.discard(6)\n",
        "print(i)"
      ],
      "metadata": {
        "colab": {
          "base_uri": "https://localhost:8080/"
        },
        "id": "WKFaIcG7LUTt",
        "outputId": "b847cdd0-24b2-4687-a9ed-bc089f21293f"
      },
      "execution_count": null,
      "outputs": [
        {
          "output_type": "stream",
          "name": "stdout",
          "text": [
            "{1, 2, 3, 4, 5}\n"
          ]
        }
      ]
    },
    {
      "cell_type": "markdown",
      "source": [
        "#join the sets"
      ],
      "metadata": {
        "id": "BQ0TkePK11f7"
      }
    },
    {
      "cell_type": "code",
      "source": [
        "i={1, 2, 3}  #join the sets\n",
        "a={4,5,6}\n",
        "print(i.union(a))"
      ],
      "metadata": {
        "colab": {
          "base_uri": "https://localhost:8080/"
        },
        "id": "RjarEkd-N5Lu",
        "outputId": "e06b7e0f-526d-48f6-c288-0a9d00487c31"
      },
      "execution_count": null,
      "outputs": [
        {
          "output_type": "stream",
          "name": "stdout",
          "text": [
            "{1, 2, 3, 4, 5, 6}\n"
          ]
        }
      ]
    },
    {
      "cell_type": "code",
      "source": [
        "i={1, 2, 3}   #another join method by using | operstor we cant joining string, list,tuple\n",
        "a={4,5,6}\n",
        "z=i|a\n",
        "print(z)"
      ],
      "metadata": {
        "colab": {
          "base_uri": "https://localhost:8080/"
        },
        "id": "UAt-PwrVPJaG",
        "outputId": "e08e6eec-23ca-4611-9d87-3ac39d7ddd7a"
      },
      "execution_count": null,
      "outputs": [
        {
          "output_type": "stream",
          "name": "stdout",
          "text": [
            "{1, 2, 3, 4, 5, 6}\n"
          ]
        }
      ]
    },
    {
      "cell_type": "code",
      "source": [
        "a={1, 2, 3}\n",
        "b={4,5,6}\n",
        "c={\"hello\"}\n",
        "d={0,4,5}\n",
        "print(a|b|c|d)"
      ],
      "metadata": {
        "colab": {
          "base_uri": "https://localhost:8080/"
        },
        "id": "dDNnXA89PyaG",
        "outputId": "8d43b8f9-d815-4c2e-8a0b-df4bc5c5e5bc"
      },
      "execution_count": null,
      "outputs": [
        {
          "output_type": "stream",
          "name": "stdout",
          "text": [
            "{0, 1, 2, 3, 4, 5, 6, 'hello'}\n"
          ]
        }
      ]
    },
    {
      "cell_type": "markdown",
      "source": [
        "#commen elements print"
      ],
      "metadata": {
        "id": "vOmqO5kM1Qmb"
      }
    },
    {
      "cell_type": "code",
      "source": [
        "a={1,2,3}\n",
        "b={3,4,5}\n",
        "z=a.intersection(b)\n",
        "print(z)"
      ],
      "metadata": {
        "colab": {
          "base_uri": "https://localhost:8080/"
        },
        "id": "-aIDycGWXIfm",
        "outputId": "b07c3783-3ac4-4d03-d190-ac9010ce4ccf"
      },
      "execution_count": null,
      "outputs": [
        {
          "output_type": "stream",
          "name": "stdout",
          "text": [
            "{3}\n"
          ]
        }
      ]
    },
    {
      "cell_type": "code",
      "source": [
        "a={1,2,3}\n",
        "b={3,4,5}\n",
        "c={7,8,9}\n",
        "print(a&b&c)"
      ],
      "metadata": {
        "colab": {
          "base_uri": "https://localhost:8080/"
        },
        "id": "ZnaSPQMSZn-m",
        "outputId": "444d2849-f854-4181-d1de-7c1837a2dbb9"
      },
      "execution_count": null,
      "outputs": [
        {
          "output_type": "stream",
          "name": "stdout",
          "text": [
            "set()\n"
          ]
        }
      ]
    },
    {
      "cell_type": "code",
      "source": [
        "a={1,2,3,\"True\"}  #commen elements identify by using & operstor we cant joining string, list,tuple\n",
        "b={\"True\"}\n",
        "print(a&b)"
      ],
      "metadata": {
        "colab": {
          "base_uri": "https://localhost:8080/"
        },
        "id": "J9SDztdaZ_zW",
        "outputId": "77a91fad-4212-47b6-aaea-7f9789a35e96"
      },
      "execution_count": null,
      "outputs": [
        {
          "output_type": "stream",
          "name": "stdout",
          "text": [
            "{'True'}\n"
          ]
        }
      ]
    },
    {
      "cell_type": "code",
      "source": [
        "a={1,2,3}\n",
        "b=[3,4,5]\n",
        "z=a.intersection(b)\n",
        "print(z)"
      ],
      "metadata": {
        "colab": {
          "base_uri": "https://localhost:8080/"
        },
        "id": "eYPW64RGcMYv",
        "outputId": "8bb6e294-cb31-4556-ae05-ca98120a9b51"
      },
      "execution_count": null,
      "outputs": [
        {
          "output_type": "stream",
          "name": "stdout",
          "text": [
            "{3}\n"
          ]
        }
      ]
    },
    {
      "cell_type": "code",
      "source": [
        "a={1,2,3}\n",
        "b=[3,4,5]\n",
        "print(a&b)"
      ],
      "metadata": {
        "collapsed": true,
        "id": "hlPeSQUMbxyP"
      },
      "execution_count": null,
      "outputs": []
    },
    {
      "cell_type": "markdown",
      "source": [
        "#remove commen elements"
      ],
      "metadata": {
        "id": "CDhVL8z01CEk"
      }
    },
    {
      "cell_type": "code",
      "source": [
        "a={1,2,3}\n",
        "b=[3,4,5]\n",
        "z=a.difference(b)\n",
        "print(z)"
      ],
      "metadata": {
        "colab": {
          "base_uri": "https://localhost:8080/"
        },
        "id": "O7QvHlTNhKZP",
        "outputId": "00063208-b726-4029-fde1-8c81ad8193b2"
      },
      "execution_count": null,
      "outputs": [
        {
          "output_type": "stream",
          "name": "stdout",
          "text": [
            "{1, 2}\n"
          ]
        }
      ]
    },
    {
      "cell_type": "code",
      "source": [
        "a={1,2,3}\n",
        "b={3,4,5}\n",
        "print(a-b)"
      ],
      "metadata": {
        "colab": {
          "base_uri": "https://localhost:8080/"
        },
        "id": "wZTNWVIVjSe3",
        "outputId": "15e68cf0-5c80-44f9-c1b7-b05af4594263"
      },
      "execution_count": null,
      "outputs": [
        {
          "output_type": "stream",
          "name": "stdout",
          "text": [
            "{1, 2}\n"
          ]
        }
      ]
    },
    {
      "cell_type": "markdown",
      "source": [
        "#remove duplicats"
      ],
      "metadata": {
        "id": "5csOS5Af06HJ"
      }
    },
    {
      "cell_type": "code",
      "source": [
        "a={1,2,3}\n",
        "b=[3,4,5]\n",
        "print(a.symmetric_difference(b))"
      ],
      "metadata": {
        "id": "KMrpAmCfkurv",
        "colab": {
          "base_uri": "https://localhost:8080/"
        },
        "outputId": "9104ce55-811b-4802-8daf-e8705a682f42"
      },
      "execution_count": null,
      "outputs": [
        {
          "output_type": "stream",
          "name": "stdout",
          "text": [
            "{1, 2, 4, 5}\n"
          ]
        }
      ]
    },
    {
      "cell_type": "code",
      "source": [
        "a={1,2,3}\n",
        "b={3,4,5}\n",
        "print(a^b)"
      ],
      "metadata": {
        "colab": {
          "base_uri": "https://localhost:8080/"
        },
        "id": "4eUZbNAZ3yVn",
        "outputId": "0bcc999c-a53b-45fa-e268-a7dffcbe47e6"
      },
      "execution_count": null,
      "outputs": [
        {
          "output_type": "stream",
          "name": "stdout",
          "text": [
            "{1, 2, 4, 5}\n"
          ]
        }
      ]
    },
    {
      "cell_type": "code",
      "source": [
        "a={1,2}\n",
        "b={3,4}\n",
        "print(a^b)"
      ],
      "metadata": {
        "colab": {
          "base_uri": "https://localhost:8080/"
        },
        "id": "BIJ4piml5JwH",
        "outputId": "87377a17-e05d-4ff4-cb91-21b15787d8e1"
      },
      "execution_count": null,
      "outputs": [
        {
          "output_type": "stream",
          "name": "stdout",
          "text": [
            "{1, 2, 3, 4}\n"
          ]
        }
      ]
    },
    {
      "cell_type": "code",
      "source": [
        "a={1,2}\n",
        "b={3,4}\n",
        "print(b^a)"
      ],
      "metadata": {
        "colab": {
          "base_uri": "https://localhost:8080/"
        },
        "id": "tvT_Z0Aq6tb-",
        "outputId": "a91d4413-f6af-4abc-be6a-857ae130a12f"
      },
      "execution_count": null,
      "outputs": [
        {
          "output_type": "stream",
          "name": "stdout",
          "text": [
            "{1, 2, 3, 4}\n"
          ]
        }
      ]
    },
    {
      "cell_type": "code",
      "source": [
        "a={1,2}\n",
        "b={3,4}\n",
        "print(a^a)"
      ],
      "metadata": {
        "colab": {
          "base_uri": "https://localhost:8080/"
        },
        "id": "cwoq5AqE79hV",
        "outputId": "f24a99dc-01ac-4dc9-efc3-2b1223c31225"
      },
      "execution_count": null,
      "outputs": [
        {
          "output_type": "stream",
          "name": "stdout",
          "text": [
            "set()\n"
          ]
        }
      ]
    },
    {
      "cell_type": "code",
      "source": [
        "a={1,2}\n",
        "b={3,4}\n",
        "print(a^a)"
      ],
      "metadata": {
        "colab": {
          "base_uri": "https://localhost:8080/"
        },
        "id": "Vmo2AS0X8Bym",
        "outputId": "fb0cbe87-53fc-41bf-ff77-932bddca6d35"
      },
      "execution_count": null,
      "outputs": [
        {
          "output_type": "stream",
          "name": "stdout",
          "text": [
            "set()\n"
          ]
        }
      ]
    },
    {
      "cell_type": "markdown",
      "source": [
        "#subset"
      ],
      "metadata": {
        "id": "jKpjcCE900xK"
      }
    },
    {
      "cell_type": "code",
      "source": [
        "a={1,2}\n",
        "b={1}\n",
        "z=b.issubset(a)\n",
        "print(z)"
      ],
      "metadata": {
        "id": "6fKtzRlp9Atf",
        "colab": {
          "base_uri": "https://localhost:8080/"
        },
        "outputId": "82156aa3-1ed6-4276-d2d1-9362102f9c7b"
      },
      "execution_count": null,
      "outputs": [
        {
          "output_type": "stream",
          "name": "stdout",
          "text": [
            "True\n"
          ]
        }
      ]
    },
    {
      "cell_type": "markdown",
      "source": [
        "#superset"
      ],
      "metadata": {
        "id": "MSLptrYb0ti8"
      }
    },
    {
      "cell_type": "code",
      "source": [
        "a={1,2}\n",
        "b={1}\n",
        "z=a.issuperset(b)\n",
        "print(z)"
      ],
      "metadata": {
        "colab": {
          "base_uri": "https://localhost:8080/"
        },
        "id": "y67vXVQnpq_F",
        "outputId": "21663e8d-c50a-47b8-fa49-258048cb4de8"
      },
      "execution_count": null,
      "outputs": [
        {
          "output_type": "stream",
          "name": "stdout",
          "text": [
            "True\n"
          ]
        }
      ]
    },
    {
      "cell_type": "code",
      "source": [
        "a={1,2}\n",
        "b={1}\n",
        "z=a.issubset(b)\n",
        "print(z)"
      ],
      "metadata": {
        "colab": {
          "base_uri": "https://localhost:8080/"
        },
        "id": "BNLm8l_cp-E1",
        "outputId": "e80df27a-1079-4856-9b2d-c1174582a31d"
      },
      "execution_count": null,
      "outputs": [
        {
          "output_type": "stream",
          "name": "stdout",
          "text": [
            "False\n"
          ]
        }
      ]
    },
    {
      "cell_type": "markdown",
      "source": [
        "#isdisjoint"
      ],
      "metadata": {
        "id": "QNV13X4H0nQE"
      }
    },
    {
      "cell_type": "code",
      "source": [
        "a={1,2}\n",
        "b={3}\n",
        "c=a.isdisjoint(b)\n",
        "print(c)"
      ],
      "metadata": {
        "colab": {
          "base_uri": "https://localhost:8080/"
        },
        "id": "fYZTMZXhEMNV",
        "outputId": "3633cf42-2883-4f21-a2e4-7e490451dfdd"
      },
      "execution_count": null,
      "outputs": [
        {
          "output_type": "stream",
          "name": "stdout",
          "text": [
            "True\n"
          ]
        }
      ]
    }
  ]
}