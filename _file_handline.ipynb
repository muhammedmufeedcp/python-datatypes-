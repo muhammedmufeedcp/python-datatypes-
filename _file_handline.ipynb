{
  "cells": [
    {
      "cell_type": "code",
      "execution_count": null,
      "metadata": {
        "colab": {
          "base_uri": "https://localhost:8080/"
        },
        "id": "NFjVVX8sFZPW",
        "outputId": "12a62aa6-082b-4018-8d2d-6e295a44b9b6"
      },
      "outputs": [
        {
          "name": "stdout",
          "output_type": "stream",
          "text": [
            "son\n"
          ]
        }
      ],
      "source": [
        "india=open(\"/content/modi.txt\",\"r\")\n",
        "print(india.read())\n",
        "india.close()"
      ]
    },
    {
      "cell_type": "code",
      "execution_count": null,
      "metadata": {
        "colab": {
          "base_uri": "https://localhost:8080/"
        },
        "id": "cPKN6j45FuJ1",
        "outputId": "3af3f9c2-a53f-4cd4-f116-8e09da43cf71"
      },
      "outputs": [
        {
          "name": "stdout",
          "output_type": "stream",
          "text": [
            "2\n"
          ]
        }
      ],
      "source": [
        "india=open(\"/content/modi.txt\",\"w\")\n",
        "print(india.write(\"soon\"))\n",
        "india.close()"
      ]
    },
    {
      "cell_type": "code",
      "execution_count": null,
      "metadata": {
        "colab": {
          "base_uri": "https://localhost:8080/"
        },
        "id": "fqkPhXEUUwRx",
        "outputId": "72f56e1a-fe36-43d7-cf40-8b7ccaba0ddc"
      },
      "outputs": [
        {
          "name": "stdout",
          "output_type": "stream",
          "text": [
            "2\n"
          ]
        }
      ],
      "source": [
        "india=open(\"/content/modi.txt\",\"a\")\n",
        "print(india.write(\"ok\"))\n",
        "india.close()"
      ]
    },
    {
      "cell_type": "code",
      "execution_count": null,
      "metadata": {
        "colab": {
          "base_uri": "https://localhost:8080/"
        },
        "id": "3q9YLoWjRHr4",
        "outputId": "bbad8229-1de1-479f-d570-dd39c31074ab"
      },
      "outputs": [
        {
          "name": "stdout",
          "output_type": "stream",
          "text": [
            "hello dear\n"
          ]
        }
      ],
      "source": [
        "x=open(\"/content/hlo.txt\",\"r\")\n",
        "print(x.read())\n",
        "x.close()\n"
      ]
    },
    {
      "cell_type": "code",
      "execution_count": null,
      "metadata": {
        "colab": {
          "base_uri": "https://localhost:8080/"
        },
        "id": "2fXsNnBrRq_Z",
        "outputId": "7e68653d-1aaf-4f02-85a3-97624aa80c7c"
      },
      "outputs": [
        {
          "name": "stdout",
          "output_type": "stream",
          "text": [
            "soon\n"
          ]
        }
      ],
      "source": [
        "with open(\"/content/modi.txt\",\"r\") as y:\n",
        " print(y.read())"
      ]
    },
    {
      "cell_type": "code",
      "execution_count": null,
      "metadata": {
        "id": "POwl-oW8S5Pp"
      },
      "outputs": [],
      "source": [
        "with open(\"/content/hlo.txt\",\"a\") as y:\n",
        " (y.write(\" how are you\"))"
      ]
    },
    {
      "cell_type": "markdown",
      "metadata": {
        "id": "k-CSJsTtYPzY"
      },
      "source": [
        "*start*"
      ]
    },
    {
      "cell_type": "code",
      "execution_count": null,
      "metadata": {
        "colab": {
          "base_uri": "https://localhost:8080/"
        },
        "id": "TC85T1Y-V0vx",
        "outputId": "1d665938-fa77-4c12-b641-78f5cd34effe"
      },
      "outputs": [
        {
          "name": "stdout",
          "output_type": "stream",
          "text": [
            "hello welcome\n"
          ]
        }
      ],
      "source": [
        "with open(\"/dog.txt\",\"r\") as a:\n",
        "  print(a.read())"
      ]
    },
    {
      "cell_type": "code",
      "execution_count": null,
      "metadata": {
        "id": "oUaz-UwaV6JS"
      },
      "outputs": [],
      "source": [
        "with open(\"/dog.txt\",\"a\") as a:\n",
        "  a.write(\"hello\\n hgghg\\n\" )"
      ]
    },
    {
      "cell_type": "code",
      "execution_count": null,
      "metadata": {
        "colab": {
          "base_uri": "https://localhost:8080/"
        },
        "id": "JlYFCEi3XEgq",
        "outputId": "eb387d0a-cc8d-440a-9707-6f7e7d44700d"
      },
      "outputs": [
        {
          "name": "stdout",
          "output_type": "stream",
          "text": [
            "hello welcomehello\n",
            "\n",
            " hgghg\n",
            "\n"
          ]
        }
      ],
      "source": [
        "with open(\"/dog.txt\",\"r\") as a:\n",
        "  print(a.readline())\n",
        "  print(a.readline())\n",
        "  print(a.readline())"
      ]
    },
    {
      "cell_type": "code",
      "execution_count": null,
      "metadata": {
        "colab": {
          "base_uri": "https://localhost:8080/"
        },
        "id": "aHnPfVtRXpUi",
        "outputId": "f72628d5-7da3-41bf-dc7d-44e4f9dabdab"
      },
      "outputs": [
        {
          "name": "stdout",
          "output_type": "stream",
          "text": [
            "hello welcomehello\n",
            "\n",
            " hgghg\n",
            "\n",
            "hello\n",
            "\n",
            " hgghg\n",
            "\n"
          ]
        }
      ],
      "source": [
        "with open(\"/dog.txt\",\"r\") as a:\n",
        "  for i in range(4):\n",
        "    print(a.readline())"
      ]
    },
    {
      "cell_type": "code",
      "execution_count": null,
      "metadata": {
        "colab": {
          "base_uri": "https://localhost:8080/"
        },
        "id": "lEvMEQNBYbaR",
        "outputId": "86bb5698-bbb5-4ac6-85be-b48a5e94375d"
      },
      "outputs": [
        {
          "name": "stdout",
          "output_type": "stream",
          "text": [
            "hello\n",
            "\n",
            "welcome\n",
            "\n"
          ]
        }
      ],
      "source": [
        "#identify the line\n",
        "with open(\"/dog.txt\",\"w\") as a:\n",
        "  a.write(\"hello\\nwelcome\\nhow year old?\\nwhat about you?\")\n",
        "with open(\"/dog.txt\",\"r\")as a:\n",
        "  print(a.readline())\n",
        "  print(a.readline())"
      ]
    },
    {
      "cell_type": "code",
      "source": [
        "#def founction using write file\n",
        "def cat():\n",
        "  with open(\"/dog.txt\",\"w\") as m:\n",
        "    m.write(\"hello\\nwelcome\\nhow year old?\\nwhat about you?\")\n",
        "\n",
        "cat()"
      ],
      "metadata": {
        "id": "tYEA6Cfsyl4K"
      },
      "execution_count": null,
      "outputs": []
    },
    {
      "cell_type": "code",
      "source": [
        "#forloop using file\n",
        "l=[1,2,3]\n",
        "path=\"/dog.txt\"\n",
        "def cat(path,l):\n",
        "  with open(path,\"w\") as m:\n",
        "    for i in l:\n",
        "      m.write(str(i)+\"\\n\")\n",
        "cat(path,l)"
      ],
      "metadata": {
        "id": "c6pwf-To0PNq"
      },
      "execution_count": null,
      "outputs": []
    },
    {
      "cell_type": "code",
      "source": [
        "#values length find in file\n",
        "def cat():\n",
        "  with open(\"/dog.txt\",\"w\") as m:\n",
        "    m.write(\"hello\")\n",
        "  with open(\"/dog.txt\",\"r\") as m:\n",
        "    print(len(m.read()))\n",
        "cat()"
      ],
      "metadata": {
        "colab": {
          "base_uri": "https://localhost:8080/"
        },
        "id": "cSnnhVM99KwR",
        "outputId": "a8ca4b01-ffae-4b9f-b9e0-5df9f20ca90c"
      },
      "execution_count": null,
      "outputs": [
        {
          "output_type": "stream",
          "name": "stdout",
          "text": [
            "5\n"
          ]
        }
      ]
    },
    {
      "cell_type": "code",
      "source": [
        "#same  values another file print\n",
        "def mouse():\n",
        " with open(\"/dog.txt\",\"r\") as b:\n",
        "   y=b.read()\n",
        " with open(\"/cat.txt\",\"w\") as b:\n",
        "  b.write(y)\n",
        "mouse()\n"
      ],
      "metadata": {
        "id": "xf-uGHqoHHE3"
      },
      "execution_count": null,
      "outputs": []
    },
    {
      "cell_type": "code",
      "source": [
        "\n",
        "name=input(\"enter a name\")\n",
        "adress=input(\"enter a adress\")\n",
        "ph=int(input(\"enter your phone number\"))\n",
        "\n",
        "def file1(name,adress,ph):\n",
        "  with open(\"/dog.txt\",\"w\") as b:\n",
        "    b.write(\"Name :\"+ name +\"\\n\")\n",
        "    b.write(\"adress :\"+ adress +\"\\n\")\n",
        "    b.write(str(\"ph:\" + ph \"\\n\"))\n",
        "  with open(\"/dog.txt\",\"r\") as b:\n",
        "    b.read()\n",
        "file1(name,adress,ph)"
      ],
      "metadata": {
        "id": "lxoEX7Lq8Rlo",
        "outputId": "108c3d72-e7ee-4af2-8194-581e527f1356",
        "colab": {
          "base_uri": "https://localhost:8080/",
          "height": 106
        }
      },
      "execution_count": null,
      "outputs": [
        {
          "output_type": "error",
          "ename": "SyntaxError",
          "evalue": "invalid syntax. Perhaps you forgot a comma? (<ipython-input-3-ca0bcad37e22>, line 9)",
          "traceback": [
            "\u001b[0;36m  File \u001b[0;32m\"<ipython-input-3-ca0bcad37e22>\"\u001b[0;36m, line \u001b[0;32m9\u001b[0m\n\u001b[0;31m    b.write(str(\"ph:\" + ph \"\\n\"))\u001b[0m\n\u001b[0m                ^\u001b[0m\n\u001b[0;31mSyntaxError\u001b[0m\u001b[0;31m:\u001b[0m invalid syntax. Perhaps you forgot a comma?\n"
          ]
        }
      ]
    },
    {
      "cell_type": "code",
      "source": [
        "#file remove method\n",
        "import os\n",
        "with open(\"/content/sample_data/mmmmm.csv\",\"w\") as m:\n",
        "  m.write(\"hello\")\n",
        "  print(os.path.exists(\"/content/sample_data/mmmmm.csv\"))\n",
        "  os.remove(\"/content/sample_data/mmmmm.csv\")\n",
        "  print(os.path.exists(\"/content/sample_data/mmmmm.csv\"))\n"
      ],
      "metadata": {
        "colab": {
          "base_uri": "https://localhost:8080/"
        },
        "id": "g09EFWdQxXyf",
        "outputId": "469f9376-eee0-4f14-debb-5ca52323f8d4"
      },
      "execution_count": null,
      "outputs": [
        {
          "output_type": "stream",
          "name": "stdout",
          "text": [
            "True\n",
            "False\n"
          ]
        }
      ]
    },
    {
      "cell_type": "code",
      "source": [
        "import os\n",
        "with open(\"sam\",\"w\") as a:\n",
        "  a.write(\"hello welcome my world\")\n",
        "  if (os.path.exists(\"/content/sam\")):\n",
        "    print(os.remove(\"/content/sam\"))\n",
        "  else:\n",
        "    print(\"no file\")\n"
      ],
      "metadata": {
        "colab": {
          "base_uri": "https://localhost:8080/"
        },
        "id": "gvFAqMsjyqMA",
        "outputId": "0fe73d84-781f-4d8f-bf2e-22419fc1c2ca"
      },
      "execution_count": null,
      "outputs": [
        {
          "output_type": "stream",
          "name": "stdout",
          "text": [
            "None\n"
          ]
        }
      ]
    }
  ],
  "metadata": {
    "colab": {
      "provenance": []
    },
    "kernelspec": {
      "display_name": "Python 3",
      "name": "python3"
    },
    "language_info": {
      "name": "python"
    }
  },
  "nbformat": 4,
  "nbformat_minor": 0
}