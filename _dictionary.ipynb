{
  "nbformat": 4,
  "nbformat_minor": 0,
  "metadata": {
    "colab": {
      "provenance": []
    },
    "kernelspec": {
      "name": "python3",
      "display_name": "Python 3"
    },
    "language_info": {
      "name": "python"
    }
  },
  "cells": [
    {
      "cell_type": "code",
      "execution_count": null,
      "metadata": {
        "colab": {
          "base_uri": "https://localhost:8080/"
        },
        "id": "Y3HtpIXzqevJ",
        "outputId": "0151fd63-4ecf-4208-ad7a-c479349d1112"
      },
      "outputs": [
        {
          "output_type": "stream",
          "name": "stdout",
          "text": [
            "mufeed\n"
          ]
        }
      ],
      "source": [
        "x={'name':\"mufeed\",  #find value\n",
        "    \"roll no\":14}\n",
        "\n",
        "print(x[\"name\"])"
      ]
    },
    {
      "cell_type": "code",
      "source": [
        "y={1:\"book\",\n",
        "   2:\"pen\"}\n",
        "\n",
        "print(y[2])"
      ],
      "metadata": {
        "colab": {
          "base_uri": "https://localhost:8080/"
        },
        "id": "XohcT0IzzH4c",
        "outputId": "e2e05988-ee40-4bac-8b63-7f9702a73c21"
      },
      "execution_count": null,
      "outputs": [
        {
          "output_type": "stream",
          "name": "stdout",
          "text": [
            "pen\n"
          ]
        }
      ]
    },
    {
      "cell_type": "code",
      "source": [
        "z={'name':'safven', #get key items\n",
        "    'no':5}\n",
        "\n",
        "print(z.keys())"
      ],
      "metadata": {
        "colab": {
          "base_uri": "https://localhost:8080/"
        },
        "id": "30AwwEXpOXDB",
        "outputId": "2f3102c7-a41d-441e-dd8c-55071a7d5e05"
      },
      "execution_count": null,
      "outputs": [
        {
          "output_type": "stream",
          "name": "stdout",
          "text": [
            "dict_keys(['name', 'no'])\n"
          ]
        }
      ]
    },
    {
      "cell_type": "code",
      "source": [
        "x={'name':\"mufeed\", #chek key items\n",
        "    \"roll no\":14}\n",
        "print(\"roll no\" in x)"
      ],
      "metadata": {
        "colab": {
          "base_uri": "https://localhost:8080/"
        },
        "id": "jP1nh3ydUEvZ",
        "outputId": "77f51fbe-6e4c-43a4-d881-aac65fcbcde5"
      },
      "execution_count": null,
      "outputs": [
        {
          "output_type": "stream",
          "name": "stdout",
          "text": [
            "True\n"
          ]
        }
      ]
    },
    {
      "cell_type": "code",
      "source": [
        "x={'name':\"mufeed\",  #get values\n",
        "    \"roll no\":14}\n",
        "(x.values())"
      ],
      "metadata": {
        "colab": {
          "base_uri": "https://localhost:8080/"
        },
        "id": "0_wPZk4NVbiC",
        "outputId": "084019b1-2421-4c07-94e1-2c68fd453c74"
      },
      "execution_count": null,
      "outputs": [
        {
          "output_type": "execute_result",
          "data": {
            "text/plain": [
              "dict_values(['mufeed', 14])"
            ]
          },
          "metadata": {},
          "execution_count": 40
        }
      ]
    },
    {
      "cell_type": "code",
      "source": [
        "a={1:\"apple\",        #update dict value items\n",
        "   2:\"cherry\"}\n",
        "(a.update({2:\"banan\"}))\n",
        "print(a)"
      ],
      "metadata": {
        "colab": {
          "base_uri": "https://localhost:8080/"
        },
        "id": "Qtg7B1YQRUcY",
        "outputId": "311e9fd5-4a8c-4109-ae9b-9c9e250ec16d"
      },
      "execution_count": null,
      "outputs": [
        {
          "output_type": "stream",
          "name": "stdout",
          "text": [
            "{1: 'apple', 2: 'banan'}\n"
          ]
        }
      ]
    },
    {
      "cell_type": "code",
      "source": [
        "a={1:\"apple\",        #update keys\n",
        "   2:\"cherry\"}\n",
        "(a.update({3:\"banan\"}))\n",
        "print(a)"
      ],
      "metadata": {
        "colab": {
          "base_uri": "https://localhost:8080/"
        },
        "id": "e_qTHFp1Slrp",
        "outputId": "429e33e9-836e-410a-b241-d943621039c8"
      },
      "execution_count": null,
      "outputs": [
        {
          "output_type": "stream",
          "name": "stdout",
          "text": [
            "{1: 'apple', 2: 'cherry', 3: 'banan'}\n"
          ]
        }
      ]
    },
    {
      "cell_type": "code",
      "source": [
        "print(dict(fname='learn',lname='logic')) #dict constructor"
      ],
      "metadata": {
        "colab": {
          "base_uri": "https://localhost:8080/"
        },
        "id": "AEW9XqiSYHd5",
        "outputId": "18015603-a14d-49f1-f6c5-51f16fd04b8b"
      },
      "execution_count": null,
      "outputs": [
        {
          "output_type": "stream",
          "name": "stdout",
          "text": [
            "{'fname': 'learn', 'lname': 'logic'}\n"
          ]
        }
      ]
    },
    {
      "cell_type": "code",
      "source": [
        "x={'name':\"mufeed\",  #remove last items\n",
        "    \"roll no\":14}\n",
        "x.popitem()\n",
        "print(x)"
      ],
      "metadata": {
        "colab": {
          "base_uri": "https://localhost:8080/"
        },
        "id": "M56wYXZzZZn7",
        "outputId": "54f6189a-6e8c-4aef-e3e0-6ec4891a7446"
      },
      "execution_count": null,
      "outputs": [
        {
          "output_type": "stream",
          "name": "stdout",
          "text": [
            "{'name': 'mufeed'}\n"
          ]
        }
      ]
    },
    {
      "cell_type": "code",
      "source": [
        "x={'name':\"mufeed\",  #remove select items\n",
        "    \"roll no\":14}\n",
        "del x[\"name\"]\n",
        "print(x)"
      ],
      "metadata": {
        "colab": {
          "base_uri": "https://localhost:8080/"
        },
        "id": "wp_tKXMnbAn6",
        "outputId": "4c500c0c-8994-4eb6-a232-02cf76a1e413"
      },
      "execution_count": null,
      "outputs": [
        {
          "output_type": "stream",
          "name": "stdout",
          "text": [
            "{'roll no': 14}\n"
          ]
        }
      ]
    },
    {
      "cell_type": "code",
      "source": [
        "x={1:\"alto\",         #forloop\n",
        "   2:\"zen\",\n",
        "   3:\"swift\",\n",
        "   4:\"rids\"}\n",
        "for i in x:\n",
        "    print(x[i])"
      ],
      "metadata": {
        "colab": {
          "base_uri": "https://localhost:8080/"
        },
        "id": "npFiQr_Dt7xL",
        "outputId": "956f1051-69ef-420c-db65-d5e86fb368d9"
      },
      "execution_count": null,
      "outputs": [
        {
          "output_type": "stream",
          "name": "stdout",
          "text": [
            "alto\n",
            "zen\n",
            "swift\n",
            "rids\n"
          ]
        }
      ]
    },
    {
      "cell_type": "code",
      "source": [
        " x={}             #from keys\n",
        "y=x.fromkeys(\"apple\",\"fruit\")\n",
        "print(y)"
      ],
      "metadata": {
        "id": "KMH5EOWmyThr",
        "colab": {
          "base_uri": "https://localhost:8080/"
        },
        "outputId": "817d0a18-a506-4759-bd24-45e4db6d6bda"
      },
      "execution_count": null,
      "outputs": [
        {
          "output_type": "stream",
          "name": "stdout",
          "text": [
            "{'a': 'fruit', 'p': 'fruit', 'l': 'fruit', 'e': 'fruit'}\n"
          ]
        }
      ]
    }
  ]
}