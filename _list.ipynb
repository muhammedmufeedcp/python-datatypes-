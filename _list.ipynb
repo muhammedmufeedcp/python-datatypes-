{
  "nbformat": 4,
  "nbformat_minor": 0,
  "metadata": {
    "colab": {
      "provenance": []
    },
    "kernelspec": {
      "name": "python3",
      "display_name": "Python 3"
    },
    "language_info": {
      "name": "python"
    }
  },
  "cells": [
    {
      "cell_type": "code",
      "source": [
        "x=[1,2,3,4]\n",
        "print(type(x))"
      ],
      "metadata": {
        "colab": {
          "base_uri": "https://localhost:8080/"
        },
        "id": "_vnOzQ52AQhq",
        "outputId": "ba0eea2a-1725-4ce0-dd83-282b8ef06c24"
      },
      "execution_count": null,
      "outputs": [
        {
          "output_type": "stream",
          "name": "stdout",
          "text": [
            "<class 'list'>\n"
          ]
        }
      ]
    },
    {
      "cell_type": "code",
      "source": [
        "x=[\"hello\",123,]\n",
        "print(type(x))"
      ],
      "metadata": {
        "colab": {
          "base_uri": "https://localhost:8080/"
        },
        "id": "FUC6xgdVBDBa",
        "outputId": "dbd8e05a-bd91-48b7-d2a1-0166fa721433"
      },
      "execution_count": null,
      "outputs": [
        {
          "output_type": "stream",
          "name": "stdout",
          "text": [
            "<class 'list'>\n"
          ]
        }
      ]
    },
    {
      "cell_type": "code",
      "source": [
        "y=[\"hi\",45.09,\"hello\",\"apple\"]\n",
        "print(type(y))"
      ],
      "metadata": {
        "colab": {
          "base_uri": "https://localhost:8080/"
        },
        "id": "cSkpE_f5BrSC",
        "outputId": "de6d1467-c8d5-4471-9e5f-2ba41ca42965"
      },
      "execution_count": null,
      "outputs": [
        {
          "output_type": "stream",
          "name": "stdout",
          "text": [
            "<class 'list'>\n"
          ]
        }
      ]
    },
    {
      "cell_type": "markdown",
      "source": [
        "list cunstructor"
      ],
      "metadata": {
        "id": "nE_pOHQQCY-K"
      }
    },
    {
      "cell_type": "code",
      "source": [
        "x=(1,2,3,4,5)\n",
        "print(list(x))\n",
        "y=(5647,87,88)\n",
        "print(list(y))"
      ],
      "metadata": {
        "colab": {
          "base_uri": "https://localhost:8080/"
        },
        "id": "zx_sBMQ6CpSi",
        "outputId": "6fc3d514-4314-4029-99a3-6234a53f21bf"
      },
      "execution_count": null,
      "outputs": [
        {
          "output_type": "stream",
          "name": "stdout",
          "text": [
            "[1, 2, 3, 4, 5]\n",
            "[5647, 87, 88]\n"
          ]
        }
      ]
    },
    {
      "cell_type": "markdown",
      "source": [
        "acess list items"
      ],
      "metadata": {
        "id": "jmqjTHOXDgLB"
      }
    },
    {
      "cell_type": "code",
      "source": [
        "x=[1,2,3]\n",
        "print(x[1])"
      ],
      "metadata": {
        "colab": {
          "base_uri": "https://localhost:8080/"
        },
        "id": "Gl7y4hPlDlvx",
        "outputId": "baa38989-6ec3-4ed8-fe89-9ee967ec40c2"
      },
      "execution_count": null,
      "outputs": [
        {
          "output_type": "stream",
          "name": "stdout",
          "text": [
            "2\n"
          ]
        }
      ]
    },
    {
      "cell_type": "markdown",
      "source": [
        "to get a range of values using slice"
      ],
      "metadata": {
        "id": "I49GiQwjFh6K"
      }
    },
    {
      "cell_type": "code",
      "source": [
        "l=['hi',1,2,True]\n",
        "print(l[1:4])"
      ],
      "metadata": {
        "colab": {
          "base_uri": "https://localhost:8080/"
        },
        "id": "0RwcOGYfF0k6",
        "outputId": "85d7849b-4037-4099-b407-a6def961bfd3"
      },
      "execution_count": null,
      "outputs": [
        {
          "output_type": "stream",
          "name": "stdout",
          "text": [
            "[1, 2, True]\n"
          ]
        }
      ]
    },
    {
      "cell_type": "code",
      "source": [
        "x=[1,2,True]\n",
        "print(x[-3:])"
      ],
      "metadata": {
        "colab": {
          "base_uri": "https://localhost:8080/"
        },
        "id": "IzmlqUAEInJR",
        "outputId": "75d0b113-5ab3-4698-c508-24b81bf33516"
      },
      "execution_count": null,
      "outputs": [
        {
          "output_type": "stream",
          "name": "stdout",
          "text": [
            "[1, 2, True]\n"
          ]
        }
      ]
    },
    {
      "cell_type": "code",
      "source": [
        "y=[\"hello\",1,2,2,True]\n",
        "print(y[-5::])"
      ],
      "metadata": {
        "colab": {
          "base_uri": "https://localhost:8080/"
        },
        "id": "ahJOmMXZJTe5",
        "outputId": "24ad92b1-3a28-4aef-f060-9a8be6eed0ce"
      },
      "execution_count": null,
      "outputs": [
        {
          "output_type": "stream",
          "name": "stdout",
          "text": [
            "['hello', 1, 2, 2, True]\n"
          ]
        }
      ]
    },
    {
      "cell_type": "markdown",
      "source": [
        "check if items exit"
      ],
      "metadata": {
        "id": "3WQXqVDqK9Qw"
      }
    },
    {
      "cell_type": "code",
      "source": [
        "l=[1,2,3]\n",
        "print(3 in l)"
      ],
      "metadata": {
        "colab": {
          "base_uri": "https://localhost:8080/"
        },
        "id": "C84nqZy3K9yn",
        "outputId": "5969f32c-4a7b-427d-8289-2d3f46d720f7"
      },
      "execution_count": null,
      "outputs": [
        {
          "output_type": "stream",
          "name": "stdout",
          "text": [
            "True\n"
          ]
        }
      ]
    },
    {
      "cell_type": "code",
      "source": [
        "x=[\"apple\",\"banana\"]\n",
        "print(\"orange\" in x)"
      ],
      "metadata": {
        "colab": {
          "base_uri": "https://localhost:8080/"
        },
        "id": "-eNRGjwiLqTw",
        "outputId": "3500b734-9939-4cd0-a039-14b43dcd441f"
      },
      "execution_count": null,
      "outputs": [
        {
          "output_type": "stream",
          "name": "stdout",
          "text": [
            "False\n"
          ]
        }
      ]
    },
    {
      "cell_type": "markdown",
      "source": [
        "change list items"
      ],
      "metadata": {
        "id": "Rk7KEG3qM9og"
      }
    },
    {
      "cell_type": "code",
      "source": [
        "x=[\"hi\",1,2,3,\"true\"]\n",
        "x[4]='apple'\n",
        "print(x)"
      ],
      "metadata": {
        "colab": {
          "base_uri": "https://localhost:8080/"
        },
        "id": "ZcEgFR2zNNPw",
        "outputId": "5833e3a6-1b38-4147-b0b5-38df2fc8e5a9"
      },
      "execution_count": null,
      "outputs": [
        {
          "output_type": "stream",
          "name": "stdout",
          "text": [
            "['hi', 1, 2, 3, 'apple']\n"
          ]
        }
      ]
    },
    {
      "cell_type": "markdown",
      "source": [
        "change a range of items value"
      ],
      "metadata": {
        "id": "fevfTHEjUYaG"
      }
    },
    {
      "cell_type": "code",
      "source": [
        "l=[10,20,8,30]\n",
        "l[0:3]=[1,2,2]\n",
        "print(l)"
      ],
      "metadata": {
        "colab": {
          "base_uri": "https://localhost:8080/"
        },
        "id": "t0FJ3p_QW6R_",
        "outputId": "bd2d7545-b234-41b9-f04b-b3c12ec953c9"
      },
      "execution_count": null,
      "outputs": [
        {
          "output_type": "stream",
          "name": "stdout",
          "text": [
            "[1, 2, 2, 30]\n"
          ]
        }
      ]
    },
    {
      "cell_type": "code",
      "source": [
        "x=[1,2,2,30]\n",
        "x[0:3]=[10,20,8]\n",
        "print(x)"
      ],
      "metadata": {
        "colab": {
          "base_uri": "https://localhost:8080/"
        },
        "id": "vFogsydbZRJe",
        "outputId": "fbb14557-54bb-493c-c2d2-0af417b2cc14"
      },
      "execution_count": null,
      "outputs": [
        {
          "output_type": "stream",
          "name": "stdout",
          "text": [
            "[10, 20, 8, 30]\n"
          ]
        }
      ]
    },
    {
      "cell_type": "code",
      "source": [
        "y=[10,20,8,30]\n",
        "y[-4:-1]=[27,28,29]\n",
        "print(y)"
      ],
      "metadata": {
        "colab": {
          "base_uri": "https://localhost:8080/"
        },
        "id": "bDsjUNWqaO8m",
        "outputId": "b7b2599f-97be-4ee1-8067-922c928afe0e"
      },
      "execution_count": null,
      "outputs": [
        {
          "output_type": "stream",
          "name": "stdout",
          "text": [
            "[27, 28, 29, 30]\n"
          ]
        }
      ]
    },
    {
      "cell_type": "code",
      "source": [
        "z=[20,30,40,50,60,70,80,90]\n",
        "z[0:2]=[1,2]\n",
        "print(z)"
      ],
      "metadata": {
        "colab": {
          "base_uri": "https://localhost:8080/"
        },
        "id": "dVdkzMOBcDgW",
        "outputId": "7dd4e6e2-ce7a-4578-e6bc-6caf4d8d2932"
      },
      "execution_count": null,
      "outputs": [
        {
          "output_type": "stream",
          "name": "stdout",
          "text": [
            "[1, 2, 40, 50, 60, 70, 80, 90]\n"
          ]
        }
      ]
    },
    {
      "cell_type": "code",
      "source": [
        "x=[1,2,3]\n",
        "x[1:]=[10,9,8,7]\n",
        "print(x)"
      ],
      "metadata": {
        "colab": {
          "base_uri": "https://localhost:8080/"
        },
        "id": "N_z_FzI1doLe",
        "outputId": "23e56d62-656e-4a5e-97e7-87cf8f6d644d"
      },
      "execution_count": null,
      "outputs": [
        {
          "output_type": "stream",
          "name": "stdout",
          "text": [
            "[1, 10, 9, 8, 7]\n"
          ]
        }
      ]
    },
    {
      "cell_type": "markdown",
      "source": [
        "variable name.instent(position,value)"
      ],
      "metadata": {
        "id": "MJ1CUWpsf-BN"
      }
    },
    {
      "cell_type": "code",
      "source": [
        "z=[1,2,3]\n",
        "z.insert(2,2.5)\n",
        "print(z)"
      ],
      "metadata": {
        "colab": {
          "base_uri": "https://localhost:8080/"
        },
        "id": "gQEmQjgDgBN9",
        "outputId": "4215f037-2e73-44af-f5b5-6eb466bc6038"
      },
      "execution_count": null,
      "outputs": [
        {
          "output_type": "stream",
          "name": "stdout",
          "text": [
            "[1, 2, 2.5, 3]\n"
          ]
        }
      ]
    },
    {
      "cell_type": "markdown",
      "source": [
        "v.appent( )"
      ],
      "metadata": {
        "id": "soanxlamhzvl"
      }
    },
    {
      "cell_type": "code",
      "source": [
        "z=[1,2,3]\n",
        "z.append(4)\n",
        "print(z)"
      ],
      "metadata": {
        "colab": {
          "base_uri": "https://localhost:8080/"
        },
        "id": "ua4QhjRYh2TF",
        "outputId": "4f66c616-72e4-401b-cb14-5cf59d2c4d8a"
      },
      "execution_count": null,
      "outputs": [
        {
          "output_type": "stream",
          "name": "stdout",
          "text": [
            "[1, 2, 3, 4]\n"
          ]
        }
      ]
    },
    {
      "cell_type": "code",
      "source": [
        "x=[10,11,12,13]\n",
        "x.append(15)\n",
        "print(x)"
      ],
      "metadata": {
        "colab": {
          "base_uri": "https://localhost:8080/"
        },
        "id": "qxKkxmGUjWEN",
        "outputId": "b202f103-511a-44a9-8dc6-0243402b7772"
      },
      "execution_count": null,
      "outputs": [
        {
          "output_type": "stream",
          "name": "stdout",
          "text": [
            "[10, 11, 12, 13, 15]\n"
          ]
        }
      ]
    },
    {
      "cell_type": "markdown",
      "source": [
        "variable.extend( )"
      ],
      "metadata": {
        "id": "RvQHyCfNy39i"
      }
    },
    {
      "cell_type": "code",
      "source": [
        "x =[1,2,3]\n",
        "y=[3,4,5]\n",
        "x.extend(y)\n",
        "print(x)"
      ],
      "metadata": {
        "colab": {
          "base_uri": "https://localhost:8080/"
        },
        "id": "eA5TBwI7y2bi",
        "outputId": "387b12bd-10de-4f10-93a3-a7f57afcd814"
      },
      "execution_count": null,
      "outputs": [
        {
          "output_type": "stream",
          "name": "stdout",
          "text": [
            "[1, 2, 3, 3, 4, 5]\n"
          ]
        }
      ]
    },
    {
      "cell_type": "code",
      "source": [
        "a=[100]\n",
        "b=[200]\n",
        "a.extend(b)\n",
        "print(a)"
      ],
      "metadata": {
        "colab": {
          "base_uri": "https://localhost:8080/"
        },
        "id": "FBKS5b8K1yKC",
        "outputId": "da7eb536-366d-436c-ece7-b1351a260c97"
      },
      "execution_count": null,
      "outputs": [
        {
          "output_type": "stream",
          "name": "stdout",
          "text": [
            "[100, 200]\n"
          ]
        }
      ]
    },
    {
      "cell_type": "markdown",
      "source": [
        "variable.remove( )"
      ],
      "metadata": {
        "id": "1a5tsEJh3g8p"
      }
    },
    {
      "cell_type": "code",
      "source": [
        "x=[\"apple\",\"banana\",1,2]\n",
        "x.remove('banana')\n",
        "print(x)"
      ],
      "metadata": {
        "colab": {
          "base_uri": "https://localhost:8080/"
        },
        "id": "vs08PUu-38a5",
        "outputId": "972d1801-ace6-47a6-91fe-d70f28dfadc1"
      },
      "execution_count": null,
      "outputs": [
        {
          "output_type": "stream",
          "name": "stdout",
          "text": [
            "['apple', 1, 2]\n"
          ]
        }
      ]
    },
    {
      "cell_type": "code",
      "source": [
        "z=[12,22,33,44,55,66]\n",
        "z.remove(44)\n",
        "print(z)"
      ],
      "metadata": {
        "colab": {
          "base_uri": "https://localhost:8080/"
        },
        "id": "4N32pTkL5g2C",
        "outputId": "71af01d5-7805-4a84-c027-064eef9e7f06"
      },
      "execution_count": null,
      "outputs": [
        {
          "output_type": "stream",
          "name": "stdout",
          "text": [
            "[12, 22, 33, 55, 66]\n"
          ]
        }
      ]
    },
    {
      "cell_type": "markdown",
      "source": [
        "v.pop( )"
      ],
      "metadata": {
        "id": "l_kRPGEh5h0x"
      }
    },
    {
      "cell_type": "code",
      "source": [
        "z=[1,2,3,4,5,6,7,8,9]\n",
        "z.pop()\n",
        "print(z)"
      ],
      "metadata": {
        "colab": {
          "base_uri": "https://localhost:8080/"
        },
        "id": "8Ie-Vk5Z5lwp",
        "outputId": "72c0fdc1-8af9-48a2-8e04-cdb0fd398586"
      },
      "execution_count": null,
      "outputs": [
        {
          "output_type": "stream",
          "name": "stdout",
          "text": [
            "[1, 2, 3, 4, 5, 6, 7, 8]\n"
          ]
        }
      ]
    },
    {
      "cell_type": "code",
      "source": [
        "x=[\"apple\",\"banana\",\"orange\"]\n",
        "x.pop()\n",
        "print(x)"
      ],
      "metadata": {
        "colab": {
          "base_uri": "https://localhost:8080/"
        },
        "id": "dQLLy1sT52a5",
        "outputId": "ee425693-58bd-466f-b32b-94174f9f4404"
      },
      "execution_count": null,
      "outputs": [
        {
          "output_type": "stream",
          "name": "stdout",
          "text": [
            "['apple', 'banana']\n"
          ]
        }
      ]
    },
    {
      "cell_type": "code",
      "source": [
        "y=[1,2,3,4,5,6,7,7,7,7,7,7,7,7,7,7,8,9,0,]\n",
        "y.pop()\n",
        "print(y)"
      ],
      "metadata": {
        "colab": {
          "base_uri": "https://localhost:8080/"
        },
        "id": "-lVWO3oV6TKB",
        "outputId": "4840cf87-d0ba-4af3-a048-a60a2f772a18"
      },
      "execution_count": null,
      "outputs": [
        {
          "output_type": "stream",
          "name": "stdout",
          "text": [
            "[1, 2, 3, 4, 5, 6, 7, 7, 7, 7, 7, 7, 7, 7, 7, 7, 8, 9]\n"
          ]
        }
      ]
    },
    {
      "cell_type": "markdown",
      "source": [
        "del variable[ ]"
      ],
      "metadata": {
        "id": "PL8mPKPr7HUJ"
      }
    },
    {
      "cell_type": "code",
      "source": [
        "x=[1,2,3,4,5]\n",
        "del x[3]\n",
        "print(x)"
      ],
      "metadata": {
        "colab": {
          "base_uri": "https://localhost:8080/"
        },
        "id": "-AfBks1q8c_K",
        "outputId": "651cb044-721c-4747-a981-5a55b0f21e78"
      },
      "execution_count": null,
      "outputs": [
        {
          "output_type": "stream",
          "name": "stdout",
          "text": [
            "[1, 2, 3, 5]\n"
          ]
        }
      ]
    },
    {
      "cell_type": "code",
      "source": [
        "z=[\"apple\",\"banana\",\"orange\"]\n",
        "del z[2]\n",
        "print(z)"
      ],
      "metadata": {
        "colab": {
          "base_uri": "https://localhost:8080/"
        },
        "id": "Mi3OQvP5812B",
        "outputId": "a89e4d4a-4282-43ce-a056-391861ec66e3"
      },
      "execution_count": null,
      "outputs": [
        {
          "output_type": "stream",
          "name": "stdout",
          "text": [
            "['apple', 'banana']\n"
          ]
        }
      ]
    },
    {
      "cell_type": "code",
      "source": [
        "y=[1,2,3,4,5]\n",
        "y.clear()\n",
        "print(y)\n"
      ],
      "metadata": {
        "colab": {
          "base_uri": "https://localhost:8080/"
        },
        "id": "tHtTCHCW952Y",
        "outputId": "b9e7d606-88dd-447d-9d8f-addab697a1c5"
      },
      "execution_count": null,
      "outputs": [
        {
          "output_type": "stream",
          "name": "stdout",
          "text": [
            "[]\n"
          ]
        }
      ]
    },
    {
      "cell_type": "markdown",
      "source": [
        "if fomat"
      ],
      "metadata": {
        "id": "3vDyYPE9oTCz"
      }
    },
    {
      "cell_type": "code",
      "source": [
        "age=int(input(\"enter no\"))\n",
        "print(age)"
      ],
      "metadata": {
        "id": "Cw3H456UoSCC"
      },
      "execution_count": null,
      "outputs": []
    }
  ]
}